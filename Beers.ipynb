{
 "cells": [
  {
   "cell_type": "markdown",
   "metadata": {},
   "source": [
    "Data available in: https://www.kaggle.com/rdoume/beerreviews\n",
    "\n",
    "Methodology and experimentation schema based on: https://www.slideshare.net/tanyacash/strata-2017-nyc-how-to-hire-and-test-for-data-skills-a-onesizefitsall-interview-kit"
   ]
  },
  {
   "cell_type": "code",
   "execution_count": null,
   "metadata": {},
   "outputs": [],
   "source": [
    "import math\n",
    "import numpy as np\n",
    "import pandas as pd\n",
    "import pandas_profiling\n",
    "import matplotlib.pyplot as plt\n",
    "import seaborn as sns\n",
    "%matplotlib inline\n",
    "\n",
    "from sklearn.linear_model import LinearRegression\n",
    "from sklearn.metrics import mean_squared_error"
   ]
  },
  {
   "cell_type": "code",
   "execution_count": null,
   "metadata": {},
   "outputs": [],
   "source": [
    "pd.options.display.max_rows = 1000\n",
    "pd.options.display.max_columns = 1000"
   ]
  },
  {
   "cell_type": "markdown",
   "metadata": {},
   "source": [
    "# Data loading and exploratory analysis"
   ]
  },
  {
   "cell_type": "code",
   "execution_count": null,
   "metadata": {},
   "outputs": [],
   "source": [
    "beers_df = pd.read_csv( './data/beer_reviews.csv' )"
   ]
  },
  {
   "cell_type": "code",
   "execution_count": null,
   "metadata": {},
   "outputs": [],
   "source": [
    "beers_df.shape"
   ]
  },
  {
   "cell_type": "code",
   "execution_count": null,
   "metadata": {},
   "outputs": [],
   "source": [
    "beers_df[ 'review_time' ] = pd.to_datetime( beers_df[ 'review_time' ], unit = 's' )"
   ]
  },
  {
   "cell_type": "code",
   "execution_count": null,
   "metadata": {},
   "outputs": [],
   "source": [
    "beers_df.head()"
   ]
  },
  {
   "cell_type": "code",
   "execution_count": null,
   "metadata": {},
   "outputs": [],
   "source": [
    "beers_df.dtypes"
   ]
  },
  {
   "cell_type": "code",
   "execution_count": null,
   "metadata": {},
   "outputs": [],
   "source": [
    "#pandas_profiling.ProfileReport( beers_df )"
   ]
  },
  {
   "cell_type": "code",
   "execution_count": null,
   "metadata": {},
   "outputs": [],
   "source": [
    "# I consider reviews from 2002 because for previous years there are no much information.\n",
    "beers_df = beers_df.loc[ beers_df[ 'review_time' ].dt.year >= 2002 ]"
   ]
  },
  {
   "cell_type": "code",
   "execution_count": null,
   "metadata": {},
   "outputs": [],
   "source": [
    "beers_df.shape"
   ]
  },
  {
   "cell_type": "code",
   "execution_count": null,
   "metadata": {},
   "outputs": [],
   "source": [
    "group_by_date = beers_df[ [ 'review_time' ] ].groupby( beers_df[ 'review_time' ].dt.date ).agg( [ 'count' ] )\n",
    "plt.figure( figsize = ( 20, 5 ) )\n",
    "plt.plot( group_by_date )\n",
    "plt.xlabel( 'Date' )\n",
    "plt.ylabel( 'Number of reviews' )\n",
    "plt.title( 'Number of Reviews per Day' )\n",
    "plt.show()"
   ]
  },
  {
   "cell_type": "code",
   "execution_count": null,
   "metadata": {},
   "outputs": [],
   "source": [
    "# Count of unique breweries => Integrity issues evidenced => Id is not considered for subsequent analysis\n",
    "print( 'Unique breweries' )\n",
    "print( 'By id:', beers_df[ 'brewery_id' ].nunique() )\n",
    "print( 'By name:', beers_df[ 'brewery_name' ].nunique() )"
   ]
  },
  {
   "cell_type": "code",
   "execution_count": null,
   "metadata": {},
   "outputs": [],
   "source": [
    "# Count of unique beers => Integrity issues evidenced => Id is not considered for subsequent analysis\n",
    "print( 'Unique beers' )\n",
    "print( 'By id:', beers_df[ 'beer_beerid' ].nunique() )\n",
    "print( 'By name:', beers_df[ 'beer_name' ].nunique() )"
   ]
  },
  {
   "cell_type": "code",
   "execution_count": null,
   "metadata": {},
   "outputs": [],
   "source": [
    "# Count of unique users\n",
    "print( 'Unique users:', beers_df[ 'review_profilename' ].nunique() )\n",
    "print( 'Unique users with more than 1 review:', beers_df[ 'review_profilename' ].value_counts()[ beers_df[ 'review_profilename' ].value_counts() > 1 ].shape[ 0 ], '-' , str( round( beers_df[ 'review_profilename' ].value_counts()[ beers_df[ 'review_profilename' ].value_counts() > 1 ].shape[ 0 ] / beers_df[ 'review_profilename' ].nunique(), 2 ) * 100 ) + '%' )"
   ]
  },
  {
   "cell_type": "code",
   "execution_count": null,
   "metadata": {},
   "outputs": [],
   "source": [
    "# Reviews by user\n",
    "beers_df[ 'review_profilename' ].value_counts().head()"
   ]
  },
  {
   "cell_type": "code",
   "execution_count": null,
   "metadata": {},
   "outputs": [],
   "source": [
    "# A beer subset removing review information is created \n",
    "grouped_beers_df = beers_df[ [ 'beer_name', 'brewery_name', 'beer_style', 'beer_abv' ] ].drop_duplicates()"
   ]
  },
  {
   "cell_type": "code",
   "execution_count": null,
   "metadata": {},
   "outputs": [],
   "source": [
    "# Count of unique beers in grouped dataset => Integrity issues evidenced with respect to previous analysis => For beer identification, I will use these 4 keys\n",
    "grouped_beers_df.shape"
   ]
  },
  {
   "cell_type": "code",
   "execution_count": null,
   "metadata": {},
   "outputs": [],
   "source": [
    "# Count of beers with the same name but different brewery, style or AVB%\n",
    "grouped_beers_df.loc[ grouped_beers_df.duplicated( subset = [ 'beer_name' ], keep = False ) ].sort_values( by = 'beer_name'  ).shape"
   ]
  },
  {
   "cell_type": "code",
   "execution_count": null,
   "metadata": {},
   "outputs": [],
   "source": [
    "# Beers by brewery\n",
    "grouped_beers_df[ 'brewery_name' ].value_counts( dropna = False ).head()"
   ]
  },
  {
   "cell_type": "code",
   "execution_count": null,
   "metadata": {},
   "outputs": [],
   "source": [
    "# Beers by style\n",
    "grouped_beers_df[ 'beer_style' ].value_counts( dropna = False ).head()"
   ]
  },
  {
   "cell_type": "code",
   "execution_count": null,
   "metadata": {},
   "outputs": [],
   "source": [
    "plt.figure()\n",
    "plt.hist( grouped_beers_df[ 'beer_abv' ], bins = 50 )\n",
    "plt.xlabel( 'ABV%' )\n",
    "plt.ylabel( 'Frecuency' )\n",
    "plt.title( 'Histogram by ABV%' )\n",
    "#plt.yscale( 'log' )\n",
    "plt.show()"
   ]
  },
  {
   "cell_type": "code",
   "execution_count": null,
   "metadata": {},
   "outputs": [],
   "source": [
    "# Pearson correlation\n",
    "sns.heatmap( beers_df[ [ 'review_overall', 'review_aroma', 'review_appearance', 'review_palate', 'review_taste', 'beer_abv' ] ].corr(), center = 0,  vmin = -1, vmax = 1 )\n",
    "plt.title( 'Pearson Correlation' )"
   ]
  },
  {
   "cell_type": "code",
   "execution_count": null,
   "metadata": {},
   "outputs": [],
   "source": [
    "# Spearman correlation\n",
    "sns.heatmap( beers_df[ [ 'review_overall', 'review_aroma', 'review_appearance', 'review_palate', 'review_taste', 'beer_abv' ] ].corr( method = 'spearman' ), center = 0,  vmin = -1, vmax = 1 )\n",
    "plt.title( 'Spearman Correlation' )"
   ]
  },
  {
   "cell_type": "code",
   "execution_count": null,
   "metadata": {},
   "outputs": [],
   "source": [
    "# An new meassure is created by averaging review by factor\n",
    "beers_df[ 'review_average' ] = round( ( ( beers_df[ 'review_overall' ] + beers_df[ 'review_aroma' ] + beers_df[ 'review_appearance' ] + beers_df[ 'review_palate' ] + beers_df[ 'review_taste' ] ) / 5 ) * 2 ) / 2"
   ]
  },
  {
   "cell_type": "code",
   "execution_count": null,
   "metadata": {},
   "outputs": [],
   "source": [
    "# Groupping by different review factors for visualization purposes\n",
    "group_by_review_overall = beers_df[ 'review_overall' ].value_counts( dropna = False ).reset_index().rename( columns = { 'index' : 'review', 'review_overall' : 'overall' } ).sort_values( by = 'review' )\n",
    "group_by_review_aroma = beers_df[ 'review_aroma' ].value_counts( dropna = False ).reset_index().rename( columns = { 'index' : 'review', 'review_aroma' : 'aroma' } ).sort_values( by = 'review' )\n",
    "group_by_review_appearance = beers_df[ 'review_appearance' ].value_counts( dropna = False ).reset_index().rename( columns = { 'index' : 'review', 'review_appearance' : 'appearance' } ).sort_values( by = 'review' )\n",
    "group_by_review_palate = beers_df[ 'review_palate' ].value_counts( dropna = False ).reset_index().rename( columns = { 'index' : 'review', 'review_palate' : 'palate' } ).sort_values( by = 'review' )\n",
    "group_by_review_taste = beers_df[ 'review_taste' ].value_counts( dropna = False ).reset_index().rename( columns = { 'index' : 'review', 'review_taste' : 'taste' } ).sort_values( by = 'review' )\n",
    "group_by_review_average = beers_df[ 'review_average' ].value_counts( dropna = False ).reset_index().rename( columns = { 'index' : 'review', 'review_average' : 'average' } ).sort_values( by = 'review' )\n",
    "\n",
    "group_by_review_overall[ 'review' ] = group_by_review_overall[ 'review' ].astype( str )\n",
    "group_by_review_aroma[ 'review' ] = group_by_review_aroma[ 'review' ].astype( str )\n",
    "group_by_review_appearance[ 'review' ] = group_by_review_appearance[ 'review' ].astype( str )\n",
    "group_by_review_palate[ 'review' ] = group_by_review_palate[ 'review' ].astype( str )\n",
    "group_by_review_taste[ 'review' ] = group_by_review_taste[ 'review' ].astype( str )\n",
    "group_by_review_average[ 'review' ] = group_by_review_average[ 'review' ].astype( str )\n",
    "\n",
    "group_by_review = group_by_review_overall.merge( group_by_review_aroma, how = 'outer', on = [ 'review' ] )\n",
    "group_by_review = group_by_review.merge( group_by_review_appearance, how = 'outer', on = [ 'review' ] )\n",
    "group_by_review = group_by_review.merge( group_by_review_palate, how = 'outer', on = [ 'review' ] )\n",
    "group_by_review = group_by_review.merge( group_by_review_taste, how = 'outer', on = [ 'review' ] )\n",
    "group_by_review = group_by_review.merge( group_by_review_average, how = 'outer', on = [ 'review' ] )\n",
    "group_by_review = group_by_review.fillna( 0 )"
   ]
  },
  {
   "cell_type": "code",
   "execution_count": null,
   "metadata": {},
   "outputs": [],
   "source": [
    "cm = plt.cm.get_cmap( 'tab10' ).colors\n",
    "f, ( ( ax1, ax2, ax3 ), ( ax4, ax5, ax6 ) ) = plt.subplots( 2, 3, sharex = 'col', sharey = 'row', figsize = ( 17, 10 ) )\n",
    "ax1.barh( group_by_review[ 'review' ], group_by_review[ 'overall' ], color = cm )\n",
    "ax1.set_title( 'Review Overall' )\n",
    "ax2.barh( group_by_review[ 'review' ], group_by_review[ 'aroma' ], color = cm )\n",
    "ax2.set_title( 'Review Aroma' )\n",
    "ax3.barh( group_by_review[ 'review' ], group_by_review[ 'appearance' ], color = cm )\n",
    "ax3.set_title( 'Review Appearance' )\n",
    "ax4.barh( group_by_review[ 'review' ], group_by_review[ 'palate' ], color = cm )\n",
    "ax4.set_title( 'Review Palate' )\n",
    "ax5.barh( group_by_review[ 'review' ], group_by_review[ 'taste' ], color = cm )\n",
    "ax5.set_title( 'Review Taste' )\n",
    "ax6.barh( group_by_review[ 'review' ], group_by_review[ 'average' ], color = cm )\n",
    "ax6.set_title( 'Review Average' )\n",
    "f.suptitle( 'Distribution of Reviews by Value' )"
   ]
  },
  {
   "cell_type": "markdown",
   "metadata": {},
   "source": [
    "# Aggregating reviews"
   ]
  },
  {
   "cell_type": "code",
   "execution_count": null,
   "metadata": {},
   "outputs": [],
   "source": [
    "# This is a python implementarion of the Lower bound of Wilson score confidence interval for a Bernoulli parameter\n",
    "# Implementation details: http://www.evanmiller.org/how-not-to-sort-by-average-rating.html?fbclid=IwAR2RNIB8geL9V0V9ereqidgRMasdytDOoqlGfCKWOcrRHKsUHFzMb7Xkemw\n",
    "\n",
    "# pos: number of positive ratings\n",
    "# n: total number of ratings\n",
    "def ci_lower_bound( pos, n ):\n",
    "    if n == 0:\n",
    "        return 0\n",
    "    z = 1.96 # For a IC of 0.95\n",
    "    phat = 1.0 * pos / n\n",
    "    return ( phat + ( z ** 2 ) / ( 2 * n ) - z * math.sqrt( ( phat * ( 1 - phat ) + ( z ** 2 ) / ( 4 * n ) ) / n ) ) / ( 1 + ( z ** 2 ) / n )"
   ]
  },
  {
   "cell_type": "code",
   "execution_count": null,
   "metadata": {},
   "outputs": [],
   "source": [
    "# Aggregation function for reviews\n",
    "# Positive reviews are defined as a constant fraction of their real value\n",
    "# Aggregation is performed using the Lower bound of Wilson score confidence interval for a Bernoulli parameter\n",
    "def agg_reviews( reviews ):\n",
    "    pos = 0\n",
    "    for index, review in reviews[ reviews >= 3 ].iteritems():\n",
    "        pos += review / 5\n",
    "    #pos = ratings[ ratings >= 3 ].shape[ 0 ]\n",
    "    return ci_lower_bound( pos, reviews.shape[ 0 ] ) * 5"
   ]
  },
  {
   "cell_type": "code",
   "execution_count": null,
   "metadata": {},
   "outputs": [],
   "source": [
    "# Grouping beers and aggregating reviews\n",
    "grouped_beers_df = beers_df.groupby( [ 'beer_name', 'brewery_name', 'beer_style', 'beer_abv' ] ) \\\n",
    "    .agg( { 'review_overall' : agg_reviews, 'review_aroma' : agg_reviews, 'review_appearance' : agg_reviews, 'review_palate' : agg_reviews, 'review_taste' : agg_reviews, 'review_average' : agg_reviews, 'review_profilename' : 'count' } ).reset_index() \\\n",
    "    .rename( columns = { 'review_profilename' : 'number_of_reviews' } )"
   ]
  },
  {
   "cell_type": "code",
   "execution_count": null,
   "metadata": {},
   "outputs": [],
   "source": [
    "# Count of unique beers\n",
    "grouped_beers_df[ 'beer_name' ].nunique()"
   ]
  },
  {
   "cell_type": "code",
   "execution_count": null,
   "metadata": {},
   "outputs": [],
   "source": [
    "# TOP 5 beers by number of reviews\n",
    "grouped_beers_df.sort_values( by = 'number_of_reviews', ascending = False ).head()"
   ]
  },
  {
   "cell_type": "markdown",
   "metadata": {},
   "source": [
    "# Which brewery produces the strongest beers by ABV%?"
   ]
  },
  {
   "cell_type": "code",
   "execution_count": null,
   "metadata": {},
   "outputs": [],
   "source": [
    "# Beers with ABV% higher than 30\n",
    "grouped_beers_df.loc[ grouped_beers_df[ 'beer_abv' ] > 30 ] \\\n",
    "    .sort_values( by = [ 'beer_abv' ], ascending = False )[ [ 'brewery_name', 'beer_name', 'beer_abv' ] ]"
   ]
  },
  {
   "cell_type": "markdown",
   "metadata": {},
   "source": [
    "Schorschbräu is the brewery producing beers with highest ABV%, followed by BrewDog and De Struise Brouwers."
   ]
  },
  {
   "cell_type": "markdown",
   "metadata": {},
   "source": [
    "# If you had to pick 3 beers to recommend using only this data, which would you pick?"
   ]
  },
  {
   "cell_type": "markdown",
   "metadata": {},
   "source": [
    "Reviews after grouping are in function of individual reviews given by each user and number of reviews for that beer. Beers with many high individual ratings likely will have a high grouped review. "
   ]
  },
  {
   "cell_type": "code",
   "execution_count": null,
   "metadata": {},
   "outputs": [],
   "source": [
    "plt.figure( figsize = ( 7, 5 ) )\n",
    "plt.scatter( grouped_beers_df[ 'number_of_reviews' ], grouped_beers_df[ 'review_average' ], marker ='.', alpha = .5 )\n",
    "plt.xlabel( 'Number od Reviews' )\n",
    "plt.ylabel( 'Review Average' )\n",
    "plt.show()"
   ]
  },
  {
   "cell_type": "code",
   "execution_count": null,
   "metadata": {},
   "outputs": [],
   "source": [
    "grouped_beers_df.sort_values( by = 'review_average', ascending = False ).head( 3 )"
   ]
  },
  {
   "cell_type": "markdown",
   "metadata": {},
   "source": [
    "These are the 3 beers with highest review average. As expected, these beers also have an important number of reviews."
   ]
  },
  {
   "cell_type": "markdown",
   "metadata": {},
   "source": [
    "# Which of the factors (aroma, taste, appearance, palate) are most important in determining the overall quality of a beer?"
   ]
  },
  {
   "cell_type": "markdown",
   "metadata": {},
   "source": [
    "In terms of correlation (pearson or spearman), the ranking seems to be: taste, palate, aroma and appearance. \n",
    "\n",
    "A most sofisticated perspective can be training a linear regression model."
   ]
  },
  {
   "cell_type": "code",
   "execution_count": null,
   "metadata": {},
   "outputs": [],
   "source": [
    "# Defining the linear model\n",
    "linear_model = LinearRegression( normalize = True )"
   ]
  },
  {
   "cell_type": "code",
   "execution_count": null,
   "metadata": {},
   "outputs": [],
   "source": [
    "# Training and generating predictions for the model\n",
    "linear_model.fit( X = beers_df[ [ 'review_aroma', 'review_appearance', 'review_palate', 'review_taste' ] ], y = beers_df[ 'review_overall' ] )\n",
    "preds = linear_model.predict( beers_df[ [ 'review_aroma', 'review_appearance', 'review_palate', 'review_taste' ] ] )"
   ]
  },
  {
   "cell_type": "code",
   "execution_count": null,
   "metadata": {},
   "outputs": [],
   "source": [
    "# Coeffifients for each feature (aroma, appearance, palate, taste)\n",
    "linear_model.coef_"
   ]
  },
  {
   "cell_type": "code",
   "execution_count": null,
   "metadata": {},
   "outputs": [],
   "source": [
    "# Validating the error in the model\n",
    "# Apparently, a linear model is enough to represent the phenomenon evidencing a global error of 0.42 when the range of possible values for the target is betwenn 0 and 5\n",
    "# Most sophisitcated validation schemas must be developed\n",
    "np.sqrt( mean_squared_error( beers_df[ 'review_overall' ], preds ) )"
   ]
  },
  {
   "cell_type": "markdown",
   "metadata": {},
   "source": [
    "Similar to results by correlation, the coefficients contributing more information to the model are the corresponding to taste and aroma features."
   ]
  },
  {
   "cell_type": "markdown",
   "metadata": {},
   "source": [
    "# If I tipically enjoy a beer due to its aroma and appearance, which beer style should I try?"
   ]
  },
  {
   "cell_type": "markdown",
   "metadata": {},
   "source": [
    "These are the beer styles for the top 10 of beers with highest aroma and appearence reviews."
   ]
  },
  {
   "cell_type": "code",
   "execution_count": null,
   "metadata": {},
   "outputs": [],
   "source": [
    "grouped_beers_df.sort_values( by = [ 'review_aroma', 'review_appearance' ], ascending = False ).head( 10 ) \\\n",
    "    [ 'beer_style' ].unique().tolist()"
   ]
  },
  {
   "cell_type": "code",
   "execution_count": null,
   "metadata": {},
   "outputs": [],
   "source": []
  }
 ],
 "metadata": {
  "kernelspec": {
   "display_name": "Python 3",
   "language": "python",
   "name": "python3"
  },
  "language_info": {
   "codemirror_mode": {
    "name": "ipython",
    "version": 3
   },
   "file_extension": ".py",
   "mimetype": "text/x-python",
   "name": "python",
   "nbconvert_exporter": "python",
   "pygments_lexer": "ipython3",
   "version": "3.7.0"
  }
 },
 "nbformat": 4,
 "nbformat_minor": 2
}
